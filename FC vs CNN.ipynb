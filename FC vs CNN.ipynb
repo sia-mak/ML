{
 "cells": [
  {
   "cell_type": "markdown",
   "metadata": {},
   "source": [
    "#### Abstract\n",
    "\n",
    "In this portfolio we want to create two different *classifier Deep Learning models*, *Fully Connected (FC)* and *Convolutional Neural Network (CNN)*. We will use *Sequential method *to create *FC* model and  *Functional API* for the *CNN model*. This model will be used to recognise hand written digits in images. To train our models we want to use *MNIST* database. Then we want to compare them and finding out that using Convolutional Layers instead of Fully Connected in our model and changing some parameters like optimization how much can be effective for creating a better model.<br>"
   ]
  },
  {
   "cell_type": "markdown",
   "metadata": {},
   "source": [
    "#### Choosing the model  idea\n",
    "\n",
    "Choosing which type of neural network we are going to use is normally depends on database we have access to:\n",
    "After finding out some information about our database, then it is time to choose which type of neural network and what architcture is suitable for that database to use.<br> \n",
    "In this portfolio we are using MNIST dataset to train our.<br>\n",
    "The MNIST database of handwritten digits has been a benchmark in Computer Vision for many years. Although it is considered \"solved\" by many today, new algorithms are still tested on it first, and it still serves as a good learning tool. \n",
    "More information on MNIST :\n",
    "> http://yann.lecun.com/exdb/mnist/\n",
    "\n",
    "Below we can see some type Neural Network Architecture and their usages:<br>\n",
    "\n",
    "- Fully Connected(FC): Normally we use them for one dimensions datasets, like Signals and Vectors. \n",
    "- Auto Encoder(AE): Normally we use them for one dimensions datasets, like Signals and Vectors.\n",
    "- Generative adversarial networks(GAN) \n",
    "- Recurrent neural network(RNN): Normally they used for datasets which depend on time, like Video, Voice, Text. \n",
    "- Convolutional neural network(CNN): Normally they used for more than one dimensions datasets, like Images and Tensors.\n",
    "\n",
    "This is just normally usage of Neural Network Architecture , It might not be right. For example for images we can also use RNN or RNN + CNN. It depends on how much creativity we have.\n",
    "\n",
    "\n",
    "\n",
    "Here we want to train our model using mnist dataset.<br>\n",
    "As we know mnist dataset is 60000 of handwriting 2D images(grayscale)<br>\n",
    "As it is 2D we can use CNN model, CNN model input can be 2D.<br>\n",
    "We can also change it to vectore, which is 1D, and use fully connected model.<br>\n",
    "Mnist dataset consists of four part, train and test images and labels.<br>\n",
    "So as we have labels for our dataset we can use supervised learning models.<br>\n",
    "One of the models which we normally use for supervised learning is CNN.<br>\n",
    "\n",
    "We might can use different type of neural network models in Mnist dataset. Here I want to use FC and CNN models\n",
    "\n",
    "--------------"
   ]
  },
  {
   "cell_type": "markdown",
   "metadata": {},
   "source": [
    "## Load the Dataset\n",
    "\n",
    "First, we need to load the dataset. The dataset we are using is in ```keras.datasets``` package.\n",
    "We can load the data using ```load_data()``` function.<br>\n",
    "As the mnist dataset has also labels , we need to make sure to load them as well.\n",
    "\n",
    "The code below illustrates the output."
   ]
  },
  {
   "cell_type": "code",
   "execution_count": 1,
   "metadata": {
    "scrolled": true
   },
   "outputs": [
    {
     "name": "stderr",
     "output_type": "stream",
     "text": [
      "Using TensorFlow backend.\n"
     ]
    }
   ],
   "source": [
    "from keras.datasets import mnist\n",
    "import numpy as np\n",
    "# Load data\n",
    "(train_images, train_labels), (test_images, test_labels) = mnist.load_data()"
   ]
  },
  {
   "cell_type": "markdown",
   "metadata": {},
   "source": [
    "Looking at the data attribute will give us a good startpoint, and we can see if we need to apply any changes in the dataset to be compatible with the model we want to create .<br>\n",
    "- Using ```ndim``` command we can see the data dimensions.<br>\n",
    "\n",
    "- Using ```shape``` command we can see the data shape.<br>\n",
    "\n",
    "- Using ```dtype``` command we can see the data type.<br>\n",
    "\n",
    "- Using ```max``` command we can see the max value.<br>\n",
    "\n",
    "- Using ```min``` command we can see the min value.<br>"
   ]
  },
  {
   "cell_type": "code",
   "execution_count": 2,
   "metadata": {},
   "outputs": [
    {
     "name": "stdout",
     "output_type": "stream",
     "text": [
      "train_images:\n",
      "dimensions:  3\n",
      "shape:  (60000, 28, 28)\n",
      "type:  uint8\n",
      "train_labels shape:  (60000,)\n",
      "\n",
      "test_images:\n",
      "dimensions:  3\n",
      "shape:  (10000, 28, 28)\n",
      "type:  uint8\n",
      "test_labels shape:  (10000,)\n",
      "\n",
      "Image values (min to max): 0 to 255\n",
      "Label values (min to max): 0 to 9\n"
     ]
    }
   ],
   "source": [
    "# Data attributes\n",
    "print(\"train_images:\")\n",
    "print(\"dimensions: \", train_images.ndim)\n",
    "print(\"shape: \", train_images.shape)\n",
    "print(\"type: \", train_images.dtype)\n",
    "print(\"train_labels shape: \", train_labels.shape )\n",
    "print()\n",
    "print(\"test_images:\")\n",
    "print(\"dimensions: \", test_images.ndim)\n",
    "print(\"shape: \", test_images.shape)\n",
    "print(\"type: \", test_images.dtype)\n",
    "print(\"test_labels shape: \", test_labels.shape)\n",
    "print()\n",
    "print('Image values (min to max):', np.min(train_images), 'to', np.max(train_images))\n",
    "print('Label values (min to max):', np.min(train_labels), 'to', np.max(train_labels))"
   ]
  },
  {
   "cell_type": "markdown",
   "metadata": {},
   "source": [
    "----------"
   ]
  },
  {
   "cell_type": "markdown",
   "metadata": {},
   "source": [
    "## FC Neural Network"
   ]
  },
  {
   "cell_type": "markdown",
   "metadata": {},
   "source": [
    "## Implementation steps\n",
    "\n",
    "After Loading the data and finiding out which model we are going to create , we need to follow the steps below for creating our model.<br> \n",
    "\n",
    "way of creating the model and layers in keras has normally six steps<br>\n",
    "\n",
    "**Implementation steps:**<br>\n",
    "\n",
    "  **1. Data preparation (Train/Validation/Test)**<br>\n",
    "  **2. Creating layers and model**<br>\n",
    "  **3. Setting training parameters (Loss & optimization functions ,...)**<br>\n",
    "  **4. Train the model (using fit())**<br>\n",
    "  **5. Visualization (Plot training behaviour)**<br>\n",
    "  **6. Evaluation (Evaluate the model on the test set)**<br>\n",
    "\n",
    "---------"
   ]
  },
  {
   "cell_type": "markdown",
   "metadata": {},
   "source": [
    "## 1- Data preparation (Train/Validation/Test)\n",
    "\n",
    "\n",
    "To prepare the data for ```Fully Connected model(FC)```:\n",
    "- First: We need to change the shape of data:<br>\n",
    "The mnist dataset is collection of handwriting grayscale images with $28\\times28$ pixels dimensions. We need to change them to the vectors, as the pixel values are not suitable for learning with a FC Neural Network model inputs and needs to be vectors. So $28\\times28$ images will be $28\\times28=784$ vectors.<br>\n",
    "* Flatten the images into 1D vectors by using NumPy's ```reshape()``` function:\n",
    "    https://docs.scipy.org/doc/numpy/reference/generated/numpy.reshape.html\n",
    "- Second: The data needs to be normalised, It means all of them need to be between 0 and 1:<br>\n",
    "For a grayscale images, the pixel value is a single number that represents the brightness of the pixel. The range of this values from 0 t0 255. Typically zero is taken to be black, and 255 is taken to be white.<br>\n",
    "So to normalise them we need to divide them to their max value which is 255. Before doing this we need to make sure first to change their type to float as dividing the integers occurs error. one can do this using ```astype('float32')``` finction.  <br>\n",
    "\n",
    "Then, the data will be ready to input in ```FC``` model.\n",
    "\n",
    "\n",
    "The code below illustrates the output."
   ]
  },
  {
   "cell_type": "code",
   "execution_count": 3,
   "metadata": {},
   "outputs": [
    {
     "name": "stdout",
     "output_type": "stream",
     "text": [
      "X_train1D shape:  (60000, 784)\n",
      "X_test1D shape:  (10000, 784)\n"
     ]
    }
   ],
   "source": [
    "# Reshape\n",
    "X_train1D = train_images.reshape(60000, 784) # len(X_train1D) = 60000\n",
    "X_test1D = test_images.reshape(10000, 784)\n",
    "\n",
    "print(\"X_train1D shape: \", X_train1D.shape)\n",
    "print(\"X_test1D shape: \", X_test1D.shape)"
   ]
  },
  {
   "cell_type": "code",
   "execution_count": 4,
   "metadata": {
    "scrolled": true
   },
   "outputs": [],
   "source": [
    "# Normalise\n",
    "X_train1D = X_train1D.astype('float32') # changing the types\n",
    "X_test1D = X_test1D.astype('float32')\n",
    "\n",
    "X_train1D /= 255\n",
    "X_test1D /= 255"
   ]
  },
  {
   "cell_type": "markdown",
   "metadata": {},
   "source": [
    "\n",
    "\n",
    "Now we also need to change our lables and make it compatible with our trained model output.<br>\n",
    "before changing the label if we open the train lable we can see it has a number for each sample, which it shows the number of that image, but the output in our model is a vector with 10 neurons, and if the model trains good all of these 10 neurons will be closed to zero except that neuron is depends of input index, which is close to one. For example, if the input is image 5 then in output all the neurons are close to zero except 5th neuron which is close to one. So now we need to change the lables to the format of the output of our model. We need to change them to vectors with 10 elements which all the elements are equal to 0, except *nth* element which shows the number *n* is equal to 1. This type of vectors called **One hot vector (Categorical)**, which all the elemnts are equal to zero except one is equal to one. For example, if the input is image 5 then 5th elemnt of the vector should be 1 and rest 0.<br>\n",
    "For doing this we can use ```np_utils``` library in keras. <br>\n",
    " https://www.tensorflow.org/api_docs/python/tf/keras/utils/to_categorical <br>\n",
    "We need to do this for both train and test lables.\n",
    "\n",
    "The code below illustrates the output."
   ]
  },
  {
   "cell_type": "code",
   "execution_count": 5,
   "metadata": {},
   "outputs": [
    {
     "data": {
      "text/html": [
       "<div>\n",
       "<style scoped>\n",
       "    .dataframe tbody tr th:only-of-type {\n",
       "        vertical-align: middle;\n",
       "    }\n",
       "\n",
       "    .dataframe tbody tr th {\n",
       "        vertical-align: top;\n",
       "    }\n",
       "\n",
       "    .dataframe thead th {\n",
       "        text-align: right;\n",
       "    }\n",
       "</style>\n",
       "<table border=\"1\" class=\"dataframe\">\n",
       "  <thead>\n",
       "    <tr style=\"text-align: right;\">\n",
       "      <th></th>\n",
       "      <th>0</th>\n",
       "    </tr>\n",
       "  </thead>\n",
       "  <tbody>\n",
       "    <tr>\n",
       "      <th>0</th>\n",
       "      <td>5</td>\n",
       "    </tr>\n",
       "    <tr>\n",
       "      <th>1</th>\n",
       "      <td>0</td>\n",
       "    </tr>\n",
       "    <tr>\n",
       "      <th>2</th>\n",
       "      <td>4</td>\n",
       "    </tr>\n",
       "    <tr>\n",
       "      <th>3</th>\n",
       "      <td>1</td>\n",
       "    </tr>\n",
       "    <tr>\n",
       "      <th>4</th>\n",
       "      <td>9</td>\n",
       "    </tr>\n",
       "    <tr>\n",
       "      <th>...</th>\n",
       "      <td>...</td>\n",
       "    </tr>\n",
       "    <tr>\n",
       "      <th>59995</th>\n",
       "      <td>8</td>\n",
       "    </tr>\n",
       "    <tr>\n",
       "      <th>59996</th>\n",
       "      <td>3</td>\n",
       "    </tr>\n",
       "    <tr>\n",
       "      <th>59997</th>\n",
       "      <td>5</td>\n",
       "    </tr>\n",
       "    <tr>\n",
       "      <th>59998</th>\n",
       "      <td>6</td>\n",
       "    </tr>\n",
       "    <tr>\n",
       "      <th>59999</th>\n",
       "      <td>8</td>\n",
       "    </tr>\n",
       "  </tbody>\n",
       "</table>\n",
       "<p>60000 rows × 1 columns</p>\n",
       "</div>"
      ],
      "text/plain": [
       "       0\n",
       "0      5\n",
       "1      0\n",
       "2      4\n",
       "3      1\n",
       "4      9\n",
       "...   ..\n",
       "59995  8\n",
       "59996  3\n",
       "59997  5\n",
       "59998  6\n",
       "59999  8\n",
       "\n",
       "[60000 rows x 1 columns]"
      ]
     },
     "execution_count": 5,
     "metadata": {},
     "output_type": "execute_result"
    }
   ],
   "source": [
    "import pandas as pd\n",
    "pd.DataFrame(train_labels)"
   ]
  },
  {
   "cell_type": "code",
   "execution_count": 6,
   "metadata": {},
   "outputs": [],
   "source": [
    "from keras.utils import np_utils\n",
    "Y_train1D = np_utils.to_categorical(train_labels)  # One hot vector (Categorical)\n",
    "Y_test1D = np_utils.to_categorical(test_labels)"
   ]
  },
  {
   "cell_type": "code",
   "execution_count": 7,
   "metadata": {},
   "outputs": [
    {
     "data": {
      "text/html": [
       "<div>\n",
       "<style scoped>\n",
       "    .dataframe tbody tr th:only-of-type {\n",
       "        vertical-align: middle;\n",
       "    }\n",
       "\n",
       "    .dataframe tbody tr th {\n",
       "        vertical-align: top;\n",
       "    }\n",
       "\n",
       "    .dataframe thead th {\n",
       "        text-align: right;\n",
       "    }\n",
       "</style>\n",
       "<table border=\"1\" class=\"dataframe\">\n",
       "  <thead>\n",
       "    <tr style=\"text-align: right;\">\n",
       "      <th></th>\n",
       "      <th>0</th>\n",
       "      <th>1</th>\n",
       "      <th>2</th>\n",
       "      <th>3</th>\n",
       "      <th>4</th>\n",
       "      <th>5</th>\n",
       "      <th>6</th>\n",
       "      <th>7</th>\n",
       "      <th>8</th>\n",
       "      <th>9</th>\n",
       "    </tr>\n",
       "  </thead>\n",
       "  <tbody>\n",
       "    <tr>\n",
       "      <th>0</th>\n",
       "      <td>0.0</td>\n",
       "      <td>0.0</td>\n",
       "      <td>0.0</td>\n",
       "      <td>0.0</td>\n",
       "      <td>0.0</td>\n",
       "      <td>1.0</td>\n",
       "      <td>0.0</td>\n",
       "      <td>0.0</td>\n",
       "      <td>0.0</td>\n",
       "      <td>0.0</td>\n",
       "    </tr>\n",
       "    <tr>\n",
       "      <th>1</th>\n",
       "      <td>1.0</td>\n",
       "      <td>0.0</td>\n",
       "      <td>0.0</td>\n",
       "      <td>0.0</td>\n",
       "      <td>0.0</td>\n",
       "      <td>0.0</td>\n",
       "      <td>0.0</td>\n",
       "      <td>0.0</td>\n",
       "      <td>0.0</td>\n",
       "      <td>0.0</td>\n",
       "    </tr>\n",
       "    <tr>\n",
       "      <th>2</th>\n",
       "      <td>0.0</td>\n",
       "      <td>0.0</td>\n",
       "      <td>0.0</td>\n",
       "      <td>0.0</td>\n",
       "      <td>1.0</td>\n",
       "      <td>0.0</td>\n",
       "      <td>0.0</td>\n",
       "      <td>0.0</td>\n",
       "      <td>0.0</td>\n",
       "      <td>0.0</td>\n",
       "    </tr>\n",
       "    <tr>\n",
       "      <th>3</th>\n",
       "      <td>0.0</td>\n",
       "      <td>1.0</td>\n",
       "      <td>0.0</td>\n",
       "      <td>0.0</td>\n",
       "      <td>0.0</td>\n",
       "      <td>0.0</td>\n",
       "      <td>0.0</td>\n",
       "      <td>0.0</td>\n",
       "      <td>0.0</td>\n",
       "      <td>0.0</td>\n",
       "    </tr>\n",
       "    <tr>\n",
       "      <th>4</th>\n",
       "      <td>0.0</td>\n",
       "      <td>0.0</td>\n",
       "      <td>0.0</td>\n",
       "      <td>0.0</td>\n",
       "      <td>0.0</td>\n",
       "      <td>0.0</td>\n",
       "      <td>0.0</td>\n",
       "      <td>0.0</td>\n",
       "      <td>0.0</td>\n",
       "      <td>1.0</td>\n",
       "    </tr>\n",
       "    <tr>\n",
       "      <th>...</th>\n",
       "      <td>...</td>\n",
       "      <td>...</td>\n",
       "      <td>...</td>\n",
       "      <td>...</td>\n",
       "      <td>...</td>\n",
       "      <td>...</td>\n",
       "      <td>...</td>\n",
       "      <td>...</td>\n",
       "      <td>...</td>\n",
       "      <td>...</td>\n",
       "    </tr>\n",
       "    <tr>\n",
       "      <th>59995</th>\n",
       "      <td>0.0</td>\n",
       "      <td>0.0</td>\n",
       "      <td>0.0</td>\n",
       "      <td>0.0</td>\n",
       "      <td>0.0</td>\n",
       "      <td>0.0</td>\n",
       "      <td>0.0</td>\n",
       "      <td>0.0</td>\n",
       "      <td>1.0</td>\n",
       "      <td>0.0</td>\n",
       "    </tr>\n",
       "    <tr>\n",
       "      <th>59996</th>\n",
       "      <td>0.0</td>\n",
       "      <td>0.0</td>\n",
       "      <td>0.0</td>\n",
       "      <td>1.0</td>\n",
       "      <td>0.0</td>\n",
       "      <td>0.0</td>\n",
       "      <td>0.0</td>\n",
       "      <td>0.0</td>\n",
       "      <td>0.0</td>\n",
       "      <td>0.0</td>\n",
       "    </tr>\n",
       "    <tr>\n",
       "      <th>59997</th>\n",
       "      <td>0.0</td>\n",
       "      <td>0.0</td>\n",
       "      <td>0.0</td>\n",
       "      <td>0.0</td>\n",
       "      <td>0.0</td>\n",
       "      <td>1.0</td>\n",
       "      <td>0.0</td>\n",
       "      <td>0.0</td>\n",
       "      <td>0.0</td>\n",
       "      <td>0.0</td>\n",
       "    </tr>\n",
       "    <tr>\n",
       "      <th>59998</th>\n",
       "      <td>0.0</td>\n",
       "      <td>0.0</td>\n",
       "      <td>0.0</td>\n",
       "      <td>0.0</td>\n",
       "      <td>0.0</td>\n",
       "      <td>0.0</td>\n",
       "      <td>1.0</td>\n",
       "      <td>0.0</td>\n",
       "      <td>0.0</td>\n",
       "      <td>0.0</td>\n",
       "    </tr>\n",
       "    <tr>\n",
       "      <th>59999</th>\n",
       "      <td>0.0</td>\n",
       "      <td>0.0</td>\n",
       "      <td>0.0</td>\n",
       "      <td>0.0</td>\n",
       "      <td>0.0</td>\n",
       "      <td>0.0</td>\n",
       "      <td>0.0</td>\n",
       "      <td>0.0</td>\n",
       "      <td>1.0</td>\n",
       "      <td>0.0</td>\n",
       "    </tr>\n",
       "  </tbody>\n",
       "</table>\n",
       "<p>60000 rows × 10 columns</p>\n",
       "</div>"
      ],
      "text/plain": [
       "         0    1    2    3    4    5    6    7    8    9\n",
       "0      0.0  0.0  0.0  0.0  0.0  1.0  0.0  0.0  0.0  0.0\n",
       "1      1.0  0.0  0.0  0.0  0.0  0.0  0.0  0.0  0.0  0.0\n",
       "2      0.0  0.0  0.0  0.0  1.0  0.0  0.0  0.0  0.0  0.0\n",
       "3      0.0  1.0  0.0  0.0  0.0  0.0  0.0  0.0  0.0  0.0\n",
       "4      0.0  0.0  0.0  0.0  0.0  0.0  0.0  0.0  0.0  1.0\n",
       "...    ...  ...  ...  ...  ...  ...  ...  ...  ...  ...\n",
       "59995  0.0  0.0  0.0  0.0  0.0  0.0  0.0  0.0  1.0  0.0\n",
       "59996  0.0  0.0  0.0  1.0  0.0  0.0  0.0  0.0  0.0  0.0\n",
       "59997  0.0  0.0  0.0  0.0  0.0  1.0  0.0  0.0  0.0  0.0\n",
       "59998  0.0  0.0  0.0  0.0  0.0  0.0  1.0  0.0  0.0  0.0\n",
       "59999  0.0  0.0  0.0  0.0  0.0  0.0  0.0  0.0  1.0  0.0\n",
       "\n",
       "[60000 rows x 10 columns]"
      ]
     },
     "execution_count": 7,
     "metadata": {},
     "output_type": "execute_result"
    }
   ],
   "source": [
    "pd.DataFrame(Y_train1D)"
   ]
  },
  {
   "cell_type": "markdown",
   "metadata": {},
   "source": [
    "---------"
   ]
  },
  {
   "cell_type": "markdown",
   "metadata": {},
   "source": [
    "## 2- Creating layers and model\n",
    "\n",
    "\n",
    "Now it is time to create our model.\n",
    "We want to create a fully connected (FC) model that input is X_train1D and compare the output with Y_train1D in train time. Then we can test the result with X_test1D and Y_test1D.<br>\n",
    "\n",
    "So our model will be like:\n",
    "- Input Layer is 784 neurons. \n",
    "- First Hidden Layer I want to have 500 neurons.\n",
    "- Second Hidden Layer with 100 neurons\n",
    "- Output Layer would be 10 neurons.<br>\n",
    "\n",
    "For creating the model in Keras we can use two different way:<br>\n",
    "- First: Using ```Sequential model```.\n",
    "In this type of model we create a Sequential model and then add the layer to the model respectively. This type of models are using from the first and are coventional from the first generation of keras.\n",
    "- Second: Using ```Functional API``` in kears.\n",
    "In this type of model we make our layer sepratley in our choice, and then we can choose the direction of the connection between the layers.<br> \n",
    "In this type of creating the models we have more felixibility and we can also create the nonconventional models  like the models has more than one input and outputs, or the models has the branches in their paths, like GoogLeNet inception model or U-Net for segmentation.<br>\n",
    "\n",
    "In this part we want to use simple Sequential model.<br>\n",
    "For doing this we need to import Sequential model from ```keras.model``` package. Then we need to create our model before adding the layers. To do this we define a variable which is name of our model equal to Sequential(). Here we have ```FCModel = Sequential()```.  <br> \n",
    "After creating the model using Sequential model we can add the layers in to the model.<br>\n",
    "\n",
    "Layers: We have different type of layer which keras supports most of them .For instance some of these layers are Fully Connected, Convonutional , Recurrent and etc . We can also make our own layer and use it in our model. <br>\n",
    "\n",
    "We want to use simple *Fully Connected* layer in here, which is called ```Dense``` in keras.<br> \n",
    "We can import the layers from ```keras.layers``` library in keras.<br>\n",
    "We can add to our model the layers using ```add()``` function. Here we have ```add(Dense())```<br>\n",
    "To create Dense Layers we need to define the parameters needed:<br>\n",
    "First we need to define the number of neurons we want to use in the Dense layers.We want to use **500** for the First Hidden Layer and **100** for the Scond one, also the Output Layer will have **10** neurons.<br> \n",
    "Then we need to define the activation function. We want to use ```relu``` function in both Hidden Layers. For Output Layer normally ```softmax``` activation is being used.<br>\n",
    "Also we need to make sure in Fully connected models (FC) we mention the Input size in creating the **First Hidden Layer**. Which here would be ```input_shape=(784,)```.<br>  \n",
    "\n",
    "We can also add ```Dropout Layer``` to our model.<br>\n",
    "Dropout layer is the layer which will be used to drop some of the neurons  by random during training the model. Dropping the neurons means make them zero or make their weights zero so they don't participate in training the model.<br>\n",
    "It can prevent *over-fitting* and it is also cause of training the models independently as they don't learn from other neuron attitude wich it might happen in FC models.<br>\n",
    "\n",
    "Deciding whether using the Dropout layer or not in our model it depends on how well our model trained and can it be optimized or is our model is over-fit or not ,how many epochs we are using in our model and etc. We can find this out after the step of fitting our model and compraing it with validation set. So I also explained briefly in that step.<br> \n",
    "Over-fitting normally happens when we don't have enough data or when the model is so complicated.<br>\n",
    "Drop out layer normally used in FC model to reduce the percentage of over-fitting and we can instead train the model with more epochs.<br>\n",
    "Using Drop out layer will also increase the loss, but sometime this tiny increase in loss and erro is worthy to have no over-fitting<br>\n",
    "\n",
    "We can see the summary of the model information using the ```summary()``` function.\n",
    "\n",
    "The code below illustrates the output."
   ]
  },
  {
   "cell_type": "code",
   "execution_count": 8,
   "metadata": {},
   "outputs": [],
   "source": [
    "# Creating our model\n",
    "# Load Library\n",
    "from keras.models import Sequential\n",
    "from keras.layers import Dense, Dropout"
   ]
  },
  {
   "cell_type": "code",
   "execution_count": 9,
   "metadata": {},
   "outputs": [],
   "source": [
    "# creating the model\n",
    "FCModel = Sequential()\n",
    "FCModel.add(Dense(500, activation='relu', input_shape=(784,))) # Hidden Layer 1\n",
    "FCModel.add(Dropout(20)) # Dropout Layer\n",
    "FCModel.add(Dense(100, activation='relu')) # Hidden Layer 2\n",
    "FCModel.add(Dropout(20)) # Dropout Layer\n",
    "FCModel.add(Dense(10, activation='softmax')) # Output Layer"
   ]
  },
  {
   "cell_type": "code",
   "execution_count": 10,
   "metadata": {
    "scrolled": true
   },
   "outputs": [
    {
     "name": "stdout",
     "output_type": "stream",
     "text": [
      "Model: \"sequential_1\"\n",
      "_________________________________________________________________\n",
      "Layer (type)                 Output Shape              Param #   \n",
      "=================================================================\n",
      "dense_1 (Dense)              (None, 500)               392500    \n",
      "_________________________________________________________________\n",
      "dropout_1 (Dropout)          (None, 500)               0         \n",
      "_________________________________________________________________\n",
      "dense_2 (Dense)              (None, 100)               50100     \n",
      "_________________________________________________________________\n",
      "dropout_2 (Dropout)          (None, 100)               0         \n",
      "_________________________________________________________________\n",
      "dense_3 (Dense)              (None, 10)                1010      \n",
      "=================================================================\n",
      "Total params: 443,610\n",
      "Trainable params: 443,610\n",
      "Non-trainable params: 0\n",
      "_________________________________________________________________\n"
     ]
    }
   ],
   "source": [
    "FCModel.summary()"
   ]
  },
  {
   "cell_type": "markdown",
   "metadata": {},
   "source": [
    "-------"
   ]
  },
  {
   "cell_type": "markdown",
   "metadata": {},
   "source": [
    "## 3- Setting training parameters (Loss & optimization functions ,...)\n",
    "\n",
    "After creating the model we need to compile the model:<br> \n",
    "In this step we need to define the other parameters such as **Loss Function** and **Optimization** for the model created. We can do this using ```compile()``` function, which here will be ```FCModel.compile()```<br>\n",
    "\n",
    "We use *Loss Function* for computing the error that our model may have, then we use *Optimization* algorithm for optimizing the model by modyfing the weights towards Global minimum  that error and making it minimumas much as possible.<br> \n",
    "\n",
    "We have different types of *Loss Function* such as **Mean squared , cross- entropy (categorical and binary), Hinge and Softmax** that we can use. Each of these Loss Function use different algorithm for computing the error.<br>\n",
    "*Optimization* has also different algorithm that we can use such as **SGD (Stochastic Gradient Descent) which is the most famouse one, Momentutum, Adam and etc.**<br> \n",
    "\n",
    "Here we define *SGD* as the optimizer of the model and *categorical_crossentropy* for the loss function in the *compile()* function.<br> \n",
    "We also define *metrics* to accuracy(acc). By doing this except the error , it also shows us the accuracy of the model during training. So error should go toward zero and accuracy need to go to one or %100. \n",
    "\n",
    "\n",
    "The code below illustrates the output."
   ]
  },
  {
   "cell_type": "code",
   "execution_count": 11,
   "metadata": {},
   "outputs": [],
   "source": [
    "# Load Library\n",
    "from keras.optimizers import SGD  # We can also define like 'SGD' without importing\n",
    "from keras.losses import categorical_crossentropy"
   ]
  },
  {
   "cell_type": "code",
   "execution_count": 12,
   "metadata": {},
   "outputs": [],
   "source": [
    "#compile the model\n",
    "FCModel.compile(optimizer=SGD(lr=0.001), loss=categorical_crossentropy, metrics=['acc']) # Lr: learning rate"
   ]
  },
  {
   "cell_type": "markdown",
   "metadata": {},
   "source": [
    "------"
   ]
  },
  {
   "cell_type": "markdown",
   "metadata": {},
   "source": [
    "## 4- Train the model (using fit())\n",
    "\n",
    "In this step we want to train our created model.<br>\n",
    "For training the model we use ```fit()``` function. In here would be ```FCModel.fit()```.<br>\n",
    "fit() function has also the parametes which need to be defined.<br>\n",
    "We need to define *input , output, batchsize, epoch,* ... .<br>\n",
    "*Input* will be our *X_train1D* which is 60000 of 784 elements vectors, and *output* would be *Y_train1D* which is 10 elements one hot vector.<br>\n",
    "we define *batch_size* to 128 here for now as we have quite alot data.Normall, as much as the batch size is more our model will have better accuracy.<br>\n",
    "*epochs* is the number of times that that model will see or use all the datas to train itself. So obviously with more epochs our model will train more, which it does't mean our model would be a good model necessarily.<br>\n",
    "Too much training the model can cause some problems like ```*overfitting*``` which it means that your model does not learn the data, it memorizes the data.Using more than enough epochs can also be computational expensive. So using enough epochs is important.<br>\n",
    "We add epochs untill we see the minimum loss function, error, or it goes untill we don't see significant reduction in loss function.<br>\n",
    "Finding the suitable epochs number to use to train the model is completely empirical and according to trial and error.<br>\n",
    "\n",
    "Another thing we can do in this part is to split our train dataset to two part of train and validation, Which we can evaluate the model accuracy by validation data and change the parameters as long as we optimize the model.\n",
    "We can do this with different ways.<br>  \n",
    "The data might already splitted from the first to train set, test set and validation set, which we can evaluate the validation set using ```evaluate()``` function after training the train set by using fit().<br>\n",
    "Another way and better way to do is when training the model using ```fit()``` function we can also define the parameter ```validation_split=``` by giving the percentage of validation set we need to split from train set. Here the *validation_split= 0.2*.<br> \n",
    "If we already have validation set and we don't need to take from the tran set we need to define ```validation_Data =``` instead of ```validation_split=```, and we will give the data to ```validation_Data =```.<br>\n",
    "\n",
    "We can place the brief or history of our trained model in a variable by assigning to that variable. In here **network_history** is the history of our trained model in 20 epochs. So we can analyse the model in the next steps.\n",
    "\n",
    "To see how much it takes to train our model we can use ```datetime()``` function in *datetime* library. We need to set the stat and end before and after fitting our model and subtracting end time from start time will show us the time of the train.\n",
    " \n",
    "\n",
    "The code below illustrates the output."
   ]
  },
  {
   "cell_type": "code",
   "execution_count": 13,
   "metadata": {},
   "outputs": [
    {
     "name": "stdout",
     "output_type": "stream",
     "text": [
      "Train on 48000 samples, validate on 12000 samples\n",
      "Epoch 1/20\n",
      "48000/48000 [==============================] - 5s 110us/step - loss: 2.1978 - acc: 0.2771 - val_loss: 2.0440 - val_acc: 0.4510\n",
      "Epoch 2/20\n",
      "48000/48000 [==============================] - 4s 94us/step - loss: 1.9166 - acc: 0.5434 - val_loss: 1.7627 - val_acc: 0.6347\n",
      "Epoch 3/20\n",
      "48000/48000 [==============================] - 6s 127us/step - loss: 1.6390 - acc: 0.6735 - val_loss: 1.4782 - val_acc: 0.7323\n",
      "Epoch 4/20\n",
      "48000/48000 [==============================] - 6s 131us/step - loss: 1.3733 - acc: 0.7412 - val_loss: 1.2234 - val_acc: 0.7824\n",
      "Epoch 5/20\n",
      "48000/48000 [==============================] - 6s 125us/step - loss: 1.1512 - acc: 0.7791 - val_loss: 1.0241 - val_acc: 0.8134\n",
      "Epoch 6/20\n",
      "48000/48000 [==============================] - 7s 150us/step - loss: 0.9840 - acc: 0.8015 - val_loss: 0.8790 - val_acc: 0.8294\n",
      "Epoch 7/20\n",
      "48000/48000 [==============================] - 6s 126us/step - loss: 0.8625 - acc: 0.8180 - val_loss: 0.7739 - val_acc: 0.8423\n",
      "Epoch 8/20\n",
      "48000/48000 [==============================] - 6s 128us/step - loss: 0.7727 - acc: 0.8316 - val_loss: 0.6961 - val_acc: 0.8515\n",
      "Epoch 9/20\n",
      "48000/48000 [==============================] - 5s 102us/step - loss: 0.7048 - acc: 0.8411 - val_loss: 0.6366 - val_acc: 0.8593\n",
      "Epoch 10/20\n",
      "48000/48000 [==============================] - 5s 101us/step - loss: 0.6519 - acc: 0.8484 - val_loss: 0.5903 - val_acc: 0.8658\n",
      "Epoch 11/20\n",
      "48000/48000 [==============================] - 6s 119us/step - loss: 0.6098 - acc: 0.8554 - val_loss: 0.5530 - val_acc: 0.8717\n",
      "Epoch 12/20\n",
      "48000/48000 [==============================] - 6s 134us/step - loss: 0.5754 - acc: 0.8613 - val_loss: 0.5230 - val_acc: 0.8755\n",
      "Epoch 13/20\n",
      "48000/48000 [==============================] - 6s 132us/step - loss: 0.5468 - acc: 0.8657 - val_loss: 0.4974 - val_acc: 0.8796\n",
      "Epoch 14/20\n",
      "48000/48000 [==============================] - 5s 101us/step - loss: 0.5226 - acc: 0.8702 - val_loss: 0.4760 - val_acc: 0.8838\n",
      "Epoch 15/20\n",
      "48000/48000 [==============================] - 6s 116us/step - loss: 0.5018 - acc: 0.8739 - val_loss: 0.4578 - val_acc: 0.8878\n",
      "Epoch 16/20\n",
      "48000/48000 [==============================] - 5s 99us/step - loss: 0.4839 - acc: 0.8778 - val_loss: 0.4421 - val_acc: 0.8903\n",
      "Epoch 17/20\n",
      "48000/48000 [==============================] - 5s 98us/step - loss: 0.4681 - acc: 0.8803 - val_loss: 0.4282 - val_acc: 0.8925\n",
      "Epoch 18/20\n",
      "48000/48000 [==============================] - 7s 138us/step - loss: 0.4542 - acc: 0.8827 - val_loss: 0.4160 - val_acc: 0.8950\n",
      "Epoch 19/20\n",
      "48000/48000 [==============================] - 8s 157us/step - loss: 0.4418 - acc: 0.8847 - val_loss: 0.4053 - val_acc: 0.8967\n",
      "Epoch 20/20\n",
      "48000/48000 [==============================] - 6s 128us/step - loss: 0.4307 - acc: 0.8869 - val_loss: 0.3956 - val_acc: 0.8988\n",
      "Total training time:  0:01:56.290826\n"
     ]
    }
   ],
   "source": [
    "# Train our model\n",
    "import datetime\n",
    "start = datetime.datetime.now()\n",
    "\n",
    "network_historyFC = FCModel.fit(X_train1D, Y_train1D, batch_size=128, epochs=20, validation_split=0.2)\n",
    "\n",
    "end = datetime.datetime.now()\n",
    "elapsed = end - start\n",
    "print('Total training time: ', str(elapsed))"
   ]
  },
  {
   "cell_type": "markdown",
   "metadata": {},
   "source": [
    "#### Comments\n",
    "\n",
    "As we can see in the top table, not only we have loss(loss) and accuracy(acc) for the train set in each epoch, we aslo have loss(val_loss) and accuracy(val_acc) for the validation set in each epoch. It means in each epoch the data is will train with train set and they have their own loss and accuracy, and then this trained model which is splitted from validation set by itself will use the validation set to test the accuracy and loss of the validation set.<br>\n",
    "\n",
    "\n",
    "> Total training time:  0:01:56.290826 for 20 epochs with 128 batch size\n",
    "\n",
    "\n",
    "-------------"
   ]
  },
  {
   "cell_type": "markdown",
   "metadata": {},
   "source": [
    "## 5- Visualization (Plot training behaviour)\n",
    "\n",
    "In this step we want to analyse the model to see how the model trained, also check the accuracy and loss function,error, of the model by visualization.<br>\n",
    "\n",
    "We can do this by using our *network_history* variable defined in previous step and is the history of our trained model in 20 epochs.\n",
    "\n",
    "*network_history* is a keras object and has a dictionary inside of it which is accessable by ```.history``` command.\n",
    "\n",
    "We also create the ```plot_history()``` for easier visualisation in our next model.\n",
    "\n",
    "The code below illustrates the output."
   ]
  },
  {
   "cell_type": "code",
   "execution_count": 14,
   "metadata": {},
   "outputs": [
    {
     "name": "stdout",
     "output_type": "stream",
     "text": [
      "<class 'keras.callbacks.callbacks.History'>\n",
      "<class 'dict'>\n",
      "dict_keys(['val_loss', 'val_acc', 'loss', 'acc'])\n"
     ]
    }
   ],
   "source": [
    "print(type(network_historyFC))\n",
    "historyFC = network_historyFC.history\n",
    "print(type(historyFC))\n",
    "print(historyFC.keys())"
   ]
  },
  {
   "cell_type": "code",
   "execution_count": 15,
   "metadata": {},
   "outputs": [
    {
     "data": {
      "image/png": "[encoded data removed]",
      "text/plain": [
       "<Figure size 432x288 with 1 Axes>"
      ]
     },
     "metadata": {
      "needs_background": "light"
     },
     "output_type": "display_data"
    },
    {
     "data": {
      "image/png": "[encoded data removed]",
      "text/plain": [
       "<Figure size 432x288 with 1 Axes>"
      ]
     },
     "metadata": {
      "needs_background": "light"
     },
     "output_type": "display_data"
    }
   ],
   "source": [
    "# plot\n",
    "def plot_history(net_history):\n",
    "    history = net_history.history\n",
    "    import matplotlib.pyplot as plt\n",
    "    losses = history['loss']\n",
    "    val_losses = history['val_loss']\n",
    "    accuracies = history['acc']\n",
    "    val_accuracies = history['val_acc']\n",
    "    \n",
    "    plt.xlabel('Epochs')\n",
    "    plt.ylabel('Loss')\n",
    "    plt.plot(losses)\n",
    "    plt.plot(val_losses)\n",
    "    plt.legend(['loss', 'val_loss'])\n",
    "    \n",
    "    plt.figure() # creating new figure for second plot\n",
    "    plt.xlabel('Epochs')\n",
    "    plt.ylabel('Accuracy')\n",
    "    plt.plot(accuracies)\n",
    "    plt.plot(val_accuracies)\n",
    "    plt.legend(['acc', 'val_acc'])\n",
    "    \n",
    "plot_history(network_historyFC)    "
   ]
  },
  {
   "cell_type": "markdown",
   "metadata": {},
   "source": [
    "#### Comments \n",
    "\n",
    "As we can see in the top polts, the accuracy and loss for train set and validation set are moving according to each othrs and in a similar way, It means the model trained well until this epoch, 20 in here, and we can add the epochs.<br>\n",
    "\n",
    "In the Loss plot when the train set plot starts to reduce but val_loss shows the different attitude, that point or intersection is possibly shows that our model is ```over-fit```. To solve the problem we need to stop the epochs in that part or using the technique will prevent overfitting, like using ```Dropout layer```. I added also Dropout layer to my model just for sake of my portfolio however this model with 20 epochs was fine even without Dropout layer. after adding Drop out layer to the model we can cahnge the epochs to more than 20 untill we see the better accuracy and less loss.\n",
    "\n",
    "--------------------"
   ]
  },
  {
   "cell_type": "markdown",
   "metadata": {},
   "source": [
    "## 6- Evaluation (Evaluate the model on the test set)\n",
    "\n",
    "In this step we want to use the trained model with the test set which our model haven't seen this data yet. \n",
    "We are doing this to evaluate our model. We can do this using the ```evaluate()``` and ```predict()``` function. In here will me *FCModel.evaluate()* and  *FCModel.predict()*.<br>\n",
    "\n",
    "In ```evaluate()``` function we need to define input and output. Input is the test set(X_test1D) and the output is the test lable(Y_test1D).<br>\n",
    "evaluate() function will test set to evaluate the trained model and in out put will give us the loss and accuracy of the test data. so we assing in it to two variable *test_loss* and *test_acc*. which *mean of the loss* will place in the test_loss and *mean of the accuracy* in test_acc.<br>\n",
    "\n",
    "Using ```predict()``` function we can give to our trained model the test set (X_test1D) and see  the prediction result for the model and how much our trained model is accurate. \n",
    "\n",
    "The code below illustrates the output."
   ]
  },
  {
   "cell_type": "code",
   "execution_count": 16,
   "metadata": {},
   "outputs": [
    {
     "name": "stdout",
     "output_type": "stream",
     "text": [
      "10000/10000 [==============================] - 1s 78us/step\n"
     ]
    }
   ],
   "source": [
    "# Evaluation\n",
    "test_loss, test_acc = FCModel.evaluate(X_test1D, Y_test1D)\n",
    "test_labels_p = FCModel.predict(X_test1D)"
   ]
  },
  {
   "cell_type": "code",
   "execution_count": 17,
   "metadata": {},
   "outputs": [
    {
     "name": "stdout",
     "output_type": "stream",
     "text": [
      "test_loss:  0.40140881116390226\n",
      "test_acc:  0.8966000080108643\n"
     ]
    }
   ],
   "source": [
    "print(\"test_loss: \", test_loss)\n",
    "print(\"test_acc: \", test_acc)"
   ]
  },
  {
   "cell_type": "markdown",
   "metadata": {},
   "source": [
    "#### FC model accuracy and loss\n",
    "\n",
    "> Total training time:  0:01:56.290826 for 20 epochs with 128 batch size<br>\n",
    "test_loss:  0.40140881116390226<br>\n",
    "test_acc:  0.8966000080108643<br>"
   ]
  },
  {
   "cell_type": "code",
   "execution_count": 18,
   "metadata": {},
   "outputs": [
    {
     "data": {
      "text/html": [
       "<div>\n",
       "<style scoped>\n",
       "    .dataframe tbody tr th:only-of-type {\n",
       "        vertical-align: middle;\n",
       "    }\n",
       "\n",
       "    .dataframe tbody tr th {\n",
       "        vertical-align: top;\n",
       "    }\n",
       "\n",
       "    .dataframe thead th {\n",
       "        text-align: right;\n",
       "    }\n",
       "</style>\n",
       "<table border=\"1\" class=\"dataframe\">\n",
       "  <thead>\n",
       "    <tr style=\"text-align: right;\">\n",
       "      <th></th>\n",
       "      <th>0</th>\n",
       "      <th>1</th>\n",
       "      <th>2</th>\n",
       "      <th>3</th>\n",
       "      <th>4</th>\n",
       "      <th>5</th>\n",
       "      <th>6</th>\n",
       "      <th>7</th>\n",
       "      <th>8</th>\n",
       "      <th>9</th>\n",
       "    </tr>\n",
       "  </thead>\n",
       "  <tbody>\n",
       "    <tr>\n",
       "      <th>0</th>\n",
       "      <td>0.001265</td>\n",
       "      <td>2.274451e-05</td>\n",
       "      <td>0.001496</td>\n",
       "      <td>0.002675</td>\n",
       "      <td>1.490222e-03</td>\n",
       "      <td>0.002189</td>\n",
       "      <td>0.000067</td>\n",
       "      <td>9.682143e-01</td>\n",
       "      <td>0.002118</td>\n",
       "      <td>0.020462</td>\n",
       "    </tr>\n",
       "    <tr>\n",
       "      <th>1</th>\n",
       "      <td>0.035572</td>\n",
       "      <td>6.142009e-03</td>\n",
       "      <td>0.544606</td>\n",
       "      <td>0.039134</td>\n",
       "      <td>1.142442e-04</td>\n",
       "      <td>0.044587</td>\n",
       "      <td>0.298392</td>\n",
       "      <td>2.152265e-04</td>\n",
       "      <td>0.031152</td>\n",
       "      <td>0.000085</td>\n",
       "    </tr>\n",
       "    <tr>\n",
       "      <th>2</th>\n",
       "      <td>0.001788</td>\n",
       "      <td>9.133335e-01</td>\n",
       "      <td>0.017013</td>\n",
       "      <td>0.014434</td>\n",
       "      <td>5.016060e-03</td>\n",
       "      <td>0.008742</td>\n",
       "      <td>0.012731</td>\n",
       "      <td>5.068650e-03</td>\n",
       "      <td>0.018458</td>\n",
       "      <td>0.003415</td>\n",
       "    </tr>\n",
       "    <tr>\n",
       "      <th>3</th>\n",
       "      <td>0.990868</td>\n",
       "      <td>6.631172e-07</td>\n",
       "      <td>0.000433</td>\n",
       "      <td>0.000206</td>\n",
       "      <td>5.221305e-06</td>\n",
       "      <td>0.005645</td>\n",
       "      <td>0.002072</td>\n",
       "      <td>3.513817e-04</td>\n",
       "      <td>0.000363</td>\n",
       "      <td>0.000057</td>\n",
       "    </tr>\n",
       "    <tr>\n",
       "      <th>4</th>\n",
       "      <td>0.004891</td>\n",
       "      <td>4.383656e-04</td>\n",
       "      <td>0.026842</td>\n",
       "      <td>0.003433</td>\n",
       "      <td>7.312564e-01</td>\n",
       "      <td>0.005013</td>\n",
       "      <td>0.013748</td>\n",
       "      <td>4.659428e-02</td>\n",
       "      <td>0.018387</td>\n",
       "      <td>0.149395</td>\n",
       "    </tr>\n",
       "    <tr>\n",
       "      <th>...</th>\n",
       "      <td>...</td>\n",
       "      <td>...</td>\n",
       "      <td>...</td>\n",
       "      <td>...</td>\n",
       "      <td>...</td>\n",
       "      <td>...</td>\n",
       "      <td>...</td>\n",
       "      <td>...</td>\n",
       "      <td>...</td>\n",
       "      <td>...</td>\n",
       "    </tr>\n",
       "    <tr>\n",
       "      <th>9995</th>\n",
       "      <td>0.000018</td>\n",
       "      <td>1.120319e-05</td>\n",
       "      <td>0.996985</td>\n",
       "      <td>0.001767</td>\n",
       "      <td>1.226706e-06</td>\n",
       "      <td>0.000016</td>\n",
       "      <td>0.000077</td>\n",
       "      <td>5.121946e-05</td>\n",
       "      <td>0.001070</td>\n",
       "      <td>0.000004</td>\n",
       "    </tr>\n",
       "    <tr>\n",
       "      <th>9996</th>\n",
       "      <td>0.000419</td>\n",
       "      <td>6.103159e-06</td>\n",
       "      <td>0.002049</td>\n",
       "      <td>0.993274</td>\n",
       "      <td>7.317211e-07</td>\n",
       "      <td>0.003424</td>\n",
       "      <td>0.000024</td>\n",
       "      <td>3.342629e-04</td>\n",
       "      <td>0.000433</td>\n",
       "      <td>0.000036</td>\n",
       "    </tr>\n",
       "    <tr>\n",
       "      <th>9997</th>\n",
       "      <td>0.000023</td>\n",
       "      <td>5.045619e-04</td>\n",
       "      <td>0.000429</td>\n",
       "      <td>0.000425</td>\n",
       "      <td>7.935259e-01</td>\n",
       "      <td>0.005396</td>\n",
       "      <td>0.000487</td>\n",
       "      <td>9.955370e-03</td>\n",
       "      <td>0.023424</td>\n",
       "      <td>0.165830</td>\n",
       "    </tr>\n",
       "    <tr>\n",
       "      <th>9998</th>\n",
       "      <td>0.019634</td>\n",
       "      <td>1.063714e-01</td>\n",
       "      <td>0.027123</td>\n",
       "      <td>0.017622</td>\n",
       "      <td>3.950846e-02</td>\n",
       "      <td>0.333921</td>\n",
       "      <td>0.043882</td>\n",
       "      <td>3.558687e-02</td>\n",
       "      <td>0.369956</td>\n",
       "      <td>0.006395</td>\n",
       "    </tr>\n",
       "    <tr>\n",
       "      <th>9999</th>\n",
       "      <td>0.002162</td>\n",
       "      <td>4.345045e-06</td>\n",
       "      <td>0.002979</td>\n",
       "      <td>0.000003</td>\n",
       "      <td>3.646739e-05</td>\n",
       "      <td>0.000164</td>\n",
       "      <td>0.994594</td>\n",
       "      <td>3.094549e-07</td>\n",
       "      <td>0.000053</td>\n",
       "      <td>0.000003</td>\n",
       "    </tr>\n",
       "  </tbody>\n",
       "</table>\n",
       "<p>10000 rows × 10 columns</p>\n",
       "</div>"
      ],
      "text/plain": [
       "             0             1         2         3             4         5  \\\n",
       "0     0.001265  2.274451e-05  0.001496  0.002675  1.490222e-03  0.002189   \n",
       "1     0.035572  6.142009e-03  0.544606  0.039134  1.142442e-04  0.044587   \n",
       "2     0.001788  9.133335e-01  0.017013  0.014434  5.016060e-03  0.008742   \n",
       "3     0.990868  6.631172e-07  0.000433  0.000206  5.221305e-06  0.005645   \n",
       "4     0.004891  4.383656e-04  0.026842  0.003433  7.312564e-01  0.005013   \n",
       "...        ...           ...       ...       ...           ...       ...   \n",
       "9995  0.000018  1.120319e-05  0.996985  0.001767  1.226706e-06  0.000016   \n",
       "9996  0.000419  6.103159e-06  0.002049  0.993274  7.317211e-07  0.003424   \n",
       "9997  0.000023  5.045619e-04  0.000429  0.000425  7.935259e-01  0.005396   \n",
       "9998  0.019634  1.063714e-01  0.027123  0.017622  3.950846e-02  0.333921   \n",
       "9999  0.002162  4.345045e-06  0.002979  0.000003  3.646739e-05  0.000164   \n",
       "\n",
       "             6             7         8         9  \n",
       "0     0.000067  9.682143e-01  0.002118  0.020462  \n",
       "1     0.298392  2.152265e-04  0.031152  0.000085  \n",
       "2     0.012731  5.068650e-03  0.018458  0.003415  \n",
       "3     0.002072  3.513817e-04  0.000363  0.000057  \n",
       "4     0.013748  4.659428e-02  0.018387  0.149395  \n",
       "...        ...           ...       ...       ...  \n",
       "9995  0.000077  5.121946e-05  0.001070  0.000004  \n",
       "9996  0.000024  3.342629e-04  0.000433  0.000036  \n",
       "9997  0.000487  9.955370e-03  0.023424  0.165830  \n",
       "9998  0.043882  3.558687e-02  0.369956  0.006395  \n",
       "9999  0.994594  3.094549e-07  0.000053  0.000003  \n",
       "\n",
       "[10000 rows x 10 columns]"
      ]
     },
     "execution_count": 18,
     "metadata": {},
     "output_type": "execute_result"
    }
   ],
   "source": [
    "pd.DataFrame(test_labels_p)"
   ]
  },
  {
   "cell_type": "markdown",
   "metadata": {},
   "source": [
    "#### Comments\n",
    "\n",
    "As we can see above,This test_labels_p is the prediction number of test set with our FC model. It is a $10\\times10000$ matrix which each output has 10 elements and the maximum of each row is the the number of that input. Now if we want to change this to the vector which has only one number for each data and that number is the index of the maximum of that 10 elements, we can use numpy library and ```argmax()``` function.<br>\n",
    "We need to also define axis, here we need to define axis equal to one which is rows.\n",
    "\n",
    "The code below illustrates the output."
   ]
  },
  {
   "cell_type": "code",
   "execution_count": 19,
   "metadata": {
    "scrolled": true
   },
   "outputs": [],
   "source": [
    "import numpy as np\n",
    "test_labels_p = np.argmax(test_labels_p, axis=1)"
   ]
  },
  {
   "cell_type": "code",
   "execution_count": 20,
   "metadata": {},
   "outputs": [
    {
     "data": {
      "text/html": [
       "<div>\n",
       "<style scoped>\n",
       "    .dataframe tbody tr th:only-of-type {\n",
       "        vertical-align: middle;\n",
       "    }\n",
       "\n",
       "    .dataframe tbody tr th {\n",
       "        vertical-align: top;\n",
       "    }\n",
       "\n",
       "    .dataframe thead th {\n",
       "        text-align: right;\n",
       "    }\n",
       "</style>\n",
       "<table border=\"1\" class=\"dataframe\">\n",
       "  <thead>\n",
       "    <tr style=\"text-align: right;\">\n",
       "      <th></th>\n",
       "      <th>0</th>\n",
       "    </tr>\n",
       "  </thead>\n",
       "  <tbody>\n",
       "    <tr>\n",
       "      <th>0</th>\n",
       "      <td>7</td>\n",
       "    </tr>\n",
       "    <tr>\n",
       "      <th>1</th>\n",
       "      <td>2</td>\n",
       "    </tr>\n",
       "    <tr>\n",
       "      <th>2</th>\n",
       "      <td>1</td>\n",
       "    </tr>\n",
       "    <tr>\n",
       "      <th>3</th>\n",
       "      <td>0</td>\n",
       "    </tr>\n",
       "    <tr>\n",
       "      <th>4</th>\n",
       "      <td>4</td>\n",
       "    </tr>\n",
       "    <tr>\n",
       "      <th>...</th>\n",
       "      <td>...</td>\n",
       "    </tr>\n",
       "    <tr>\n",
       "      <th>9995</th>\n",
       "      <td>2</td>\n",
       "    </tr>\n",
       "    <tr>\n",
       "      <th>9996</th>\n",
       "      <td>3</td>\n",
       "    </tr>\n",
       "    <tr>\n",
       "      <th>9997</th>\n",
       "      <td>4</td>\n",
       "    </tr>\n",
       "    <tr>\n",
       "      <th>9998</th>\n",
       "      <td>8</td>\n",
       "    </tr>\n",
       "    <tr>\n",
       "      <th>9999</th>\n",
       "      <td>6</td>\n",
       "    </tr>\n",
       "  </tbody>\n",
       "</table>\n",
       "<p>10000 rows × 1 columns</p>\n",
       "</div>"
      ],
      "text/plain": [
       "      0\n",
       "0     7\n",
       "1     2\n",
       "2     1\n",
       "3     0\n",
       "4     4\n",
       "...  ..\n",
       "9995  2\n",
       "9996  3\n",
       "9997  4\n",
       "9998  8\n",
       "9999  6\n",
       "\n",
       "[10000 rows x 1 columns]"
      ]
     },
     "execution_count": 20,
     "metadata": {},
     "output_type": "execute_result"
    }
   ],
   "source": [
    "pd.DataFrame(test_labels_p)"
   ]
  },
  {
   "cell_type": "markdown",
   "metadata": {},
   "source": [
    "----------------------\n",
    ">After making the model we can also accsess to the layer separately and modify them. We can do this using ```layers``` parameter we can do this.\n",
    "We can change the name of the layers by adding the ```name``` parameter and assign it to other name if we want.\n",
    "We can also stop the layers to be trainable by assigning ```trainable``` parameter to False.\n",
    "\n",
    "The code below illustrates the output."
   ]
  },
  {
   "cell_type": "code",
   "execution_count": 21,
   "metadata": {},
   "outputs": [
    {
     "data": {
      "text/plain": [
       "{'name': 'Layer_0',\n",
       " 'trainable': False,\n",
       " 'batch_input_shape': (None, 784),\n",
       " 'dtype': 'float32',\n",
       " 'units': 500,\n",
       " 'activation': 'relu',\n",
       " 'use_bias': True,\n",
       " 'kernel_initializer': {'class_name': 'VarianceScaling',\n",
       "  'config': {'scale': 1.0,\n",
       "   'mode': 'fan_avg',\n",
       "   'distribution': 'uniform',\n",
       "   'seed': None}},\n",
       " 'bias_initializer': {'class_name': 'Zeros', 'config': {}},\n",
       " 'kernel_regularizer': None,\n",
       " 'bias_regularizer': None,\n",
       " 'activity_regularizer': None,\n",
       " 'kernel_constraint': None,\n",
       " 'bias_constraint': None}"
      ]
     },
     "execution_count": 21,
     "metadata": {},
     "output_type": "execute_result"
    }
   ],
   "source": [
    "# Change layers config\n",
    "FCModel.layers[0].name = 'Layer_0'\n",
    "FCModel.layers[0].trainable = False\n",
    "FCModel.layers[0].get_config()"
   ]
  },
  {
   "cell_type": "markdown",
   "metadata": {},
   "source": [
    "## CNN Neural Network\n",
    "\n",
    "In previous part we have seen that how we can create a Fully connected ```FC``` model in ```sequential``` manner.Now I want to creat the model using functional ```API``` and we want to use Convolutional neural network```CNN``` neural network for the same dataset mnist. \n"
   ]
  },
  {
   "cell_type": "markdown",
   "metadata": {},
   "source": [
    "AS after Loading the data and finiding out which model we are going to create , we need to follow the steps below for creating our model.<br> \n",
    "\n",
    "way of creating the model and layers in keras has normally six steps<br>\n",
    "\n",
    "**Implementation steps:**<br>\n",
    "\n",
    "  **1. Data preparation (Train/Validation/Test)**<br>\n",
    "  **2. Creating layers and model**<br>\n",
    "  **3. Setting training parameters (Loss & optimization functions ,...)**<br>\n",
    "  **4. Train the model (using fit())**<br>\n",
    "  **5. Visualization (Plot training behaviour)**<br>\n",
    "  **6. Evaluation (Evaluate the model on the test set)**<br>\n",
    "  \n",
    "  -----------"
   ]
  },
  {
   "cell_type": "markdown",
   "metadata": {},
   "source": [
    "## 1- Data preparation (Train/Validation/Test)\n",
    "\n",
    "To prepare the data for ```Convolutional neural network(CNN)```:\n",
    "\n",
    "The difference in here with FC model is that we do not need to change the data to vector anymore and data need to be the images as it is in mnist datset.<br> \n",
    "We also have one more dimension in image datasets which is the channel that we need to mention in CNN models, A grayscale image has just one channel, so we need to add 1 in here.<br>\n",
    "\n",
    "Rest would be the same as FC model Date prepration. \n",
    "\n",
    "\n",
    "The code below illustrates the output."
   ]
  },
  {
   "cell_type": "code",
   "execution_count": 22,
   "metadata": {
    "scrolled": true
   },
   "outputs": [
    {
     "name": "stdout",
     "output_type": "stream",
     "text": [
      "train_images dimentions:  3\n",
      "train_images shape:  (60000, 28, 28)\n",
      "train_images type:  uint8\n"
     ]
    }
   ],
   "source": [
    "from keras.datasets import mnist\n",
    "\n",
    "# Load data\n",
    "(train_images, train_labels), (test_images, test_labels) = mnist.load_data()\n",
    "\n",
    "# Data attributes\n",
    "print(\"train_images dimentions: \", train_images.ndim)\n",
    "print(\"train_images shape: \", train_images.shape)\n",
    "print(\"train_images type: \", train_images.dtype)\n",
    "\n",
    "X_train2D = train_images.reshape(60000, 28, 28, 1)\n",
    "X_test2D = test_images.reshape(10000, 28, 28, 1)\n",
    "\n",
    "X_train2D = X_train2D.astype('float32')\n",
    "X_test2D = X_test2D.astype('float32')\n",
    "\n",
    "X_train2D /= 255\n",
    "X_test2D /= 255\n",
    "\n",
    "from keras.utils import np_utils\n",
    "Y_train1D = np_utils.to_categorical(train_labels)\n",
    "Y_test1D = np_utils.to_categorical(test_labels)\n"
   ]
  },
  {
   "cell_type": "markdown",
   "metadata": {},
   "source": [
    "-------------"
   ]
  },
  {
   "cell_type": "markdown",
   "metadata": {},
   "source": [
    "## 2. Creating layers and model\n",
    "\n",
    "Now we want to create the layers.<br>\n",
    "Before creating the layers we need to import the layers. Here as we are creating the CNN model the layers we need to import would be *```conv2D```* and *```Max pooling```* and *```Input```* or alternatively we can only import layer from keras package and add the layer when we are creating the layer. This also make our code nicer, easier to choose and more readable. \n",
    "\n",
    "The difference between *FC* model with sequential method which we have created earlier and *CNN* model with *API* method:\n",
    "- In *FC* model with sequential method we need to make the model first like *FCModel = Sequential()* and then creating the layers, like we did earlier.\n",
    "- In *CNN* model using *API* model first we need to creat the layers and then crate the model. So we can choose which layers we want them to be connected. For this reason we have more flexibilty and we can create our own model and use our creativity for creating the neural networks models. We need to make sure to mention the input layer in each layer after creating them in API model.\n",
    "\n",
    "Creating the Conv2D layers:<br>\n",
    "\n",
    "By using layer.Conv2D() we can create the convolutional layers for our models. We also need to define the parameters. Below we can see some of the parameters using in Conv2D layers:\n",
    "- Filter : The number of filter we want to use and we should have in the output.\n",
    "- Windows size: The size of the window we want to use for convolutional process. \n",
    "- Activation: we need to define the activation fuction that we want to use.\n",
    "- Padding: It means the output of that layer after convolving. If we want to padding the input data and then do the convolutional process which we will not have any data reduction and the output will be the same size of input we need to define padding parameter to *'same'*. If we dont want padding, the output will lose some data and will not have some of the margins, we can define the padding to *'valid'*. \n",
    "\n",
    "\n",
    "Creating the MaxPool2D layers:<br>\n",
    "\n",
    "We use Pooling(Max, Average, ..) layer in order to reduction in data when training our model. We did the same thing for our FC model earlier by adding ```Drop out``` layer. but different process.<br>\n",
    "By using layer.MaxPool2D() we can create the MaxPool2D layers for our model. We also need to define the ```pool_size = ```. for example ```layers.Maxpool2D(pool_size = 2)(Input layer name)```\n",
    "\n",
    "\n",
    "After creating the layers and choosing their input:<br>\n",
    "As we mentioned before we want to create the classifier model, so the output of the model needs to be the vector of 10 neuron to classify the numbers between 0 to 9. In CNN model the output is also an image , so we need to change it to vector with 10 neurons. To do this we can use ```Flatten()``` function.<br>\n",
    "```Flatten()``` function makes whatever dimension input is to vector. We just need to mention the input layer.<br>\n",
    "\n",
    "\n",
    "After flattening the output of last CNN layer to  a vector, we also need to input Dense(Fully connected) layer with 10 neuron in here for classification. We can doing this using the ```layers.Dense()``` as we explained earlier <br>\n",
    "\n",
    "\n",
    "\n",
    "Now it's time to create the models from the layers by using the ```Model()``` function in ```kears.models``` library. The parameters will be Input layer and output layer.<br> \n",
    "We can choose the input and output parameters in ```Model()``` function whatever we want. Here we define the input to myInput and output to out_layer. It could also be different, for example it could myInput be the input and conv2 the out put, we just need to make sure our input layer meet the criteria.<br>\n",
    "So we have a quite a lot flexibility to choose our layer, for example we could make the layer that all their inputs are the same, like the inception model in GoogleNet, Or we could even have many inputs or many outputs and create the different range of models with it\n",
    "\n",
    "The code below illustrates the output."
   ]
  },
  {
   "cell_type": "code",
   "execution_count": 23,
   "metadata": {},
   "outputs": [
    {
     "name": "stdout",
     "output_type": "stream",
     "text": [
      "Model: \"model_1\"\n",
      "_________________________________________________________________\n",
      "Layer (type)                 Output Shape              Param #   \n",
      "=================================================================\n",
      "input_1 (InputLayer)         (None, 28, 28, 1)         0         \n",
      "_________________________________________________________________\n",
      "conv2d_1 (Conv2D)            (None, 28, 28, 16)        160       \n",
      "_________________________________________________________________\n",
      "max_pooling2d_1 (MaxPooling2 (None, 14, 14, 16)        0         \n",
      "_________________________________________________________________\n",
      "conv2d_2 (Conv2D)            (None, 14, 14, 32)        4640      \n",
      "_________________________________________________________________\n",
      "max_pooling2d_2 (MaxPooling2 (None, 7, 7, 32)          0         \n",
      "_________________________________________________________________\n",
      "flatten_1 (Flatten)          (None, 1568)              0         \n",
      "_________________________________________________________________\n",
      "dense_4 (Dense)              (None, 10)                15690     \n",
      "=================================================================\n",
      "Total params: 20,490\n",
      "Trainable params: 20,490\n",
      "Non-trainable params: 0\n",
      "_________________________________________________________________\n"
     ]
    }
   ],
   "source": [
    "# Creating our model\n",
    "from keras.models import Model\n",
    "from keras import layers\n",
    "import keras\n",
    "\n",
    "myInput = layers.Input(shape=(28,28,1))\n",
    "conv1 = layers.Conv2D(16, 3, activation='relu', padding='same')(myInput)\n",
    "pool1 = layers.MaxPool2D(pool_size = 2)(conv1)\n",
    "conv2 = layers.Conv2D(32, 3, activation='relu', padding='same')(pool1)\n",
    "pool2 = layers.MaxPool2D(pool_size = 2)(conv2)\n",
    "flat = layers.Flatten()(pool2)\n",
    "out_layer = layers.Dense(10, activation='softmax')(flat)\n",
    " \n",
    "\n",
    "CNNModel = Model(myInput, out_layer)\n",
    "\n",
    "CNNModel.summary()"
   ]
  },
  {
   "cell_type": "markdown",
   "metadata": {},
   "source": [
    "#### Comments\n",
    "As you can see above , the number of parameters is less than FC model, In fully connected model we had 443,610 parameters and here in CNN model we have only 20,490.<br>\n",
    "\n",
    "Now we want to use one of the techniques using in deep learning and convolutional.<br>\n",
    "The first technique we want to implement is using stride instead of Max pooling layers. We can do this by defining the stride paramere in convolutional layer.<br>\n",
    "Conv2D layer except filter, window, activation and padding which we defined earlier has another paramether called ```strides```.\n",
    "We can also define stride in the convolutional layers instead of adding pooling layer to reduce the datas and the volume of computing in our model.\n",
    "\n",
    "The code below illustrates the output."
   ]
  },
  {
   "cell_type": "code",
   "execution_count": 24,
   "metadata": {
    "scrolled": true
   },
   "outputs": [
    {
     "name": "stdout",
     "output_type": "stream",
     "text": [
      "Model: \"model_2\"\n",
      "_________________________________________________________________\n",
      "Layer (type)                 Output Shape              Param #   \n",
      "=================================================================\n",
      "input_2 (InputLayer)         (None, 28, 28, 1)         0         \n",
      "_________________________________________________________________\n",
      "conv2d_3 (Conv2D)            (None, 14, 14, 16)        160       \n",
      "_________________________________________________________________\n",
      "conv2d_4 (Conv2D)            (None, 7, 7, 32)          4640      \n",
      "_________________________________________________________________\n",
      "flatten_2 (Flatten)          (None, 1568)              0         \n",
      "_________________________________________________________________\n",
      "dense_5 (Dense)              (None, 10)                15690     \n",
      "=================================================================\n",
      "Total params: 20,490\n",
      "Trainable params: 20,490\n",
      "Non-trainable params: 0\n",
      "_________________________________________________________________\n"
     ]
    }
   ],
   "source": [
    "# Creating our model\n",
    "from keras.models import Model\n",
    "from keras import layers\n",
    "import keras\n",
    "\n",
    "myInput = layers.Input(shape=(28,28,1))\n",
    "conv1 = layers.Conv2D(16, 3, activation='relu', padding='same', strides=2)(myInput)\n",
    "conv2 = layers.Conv2D(32, 3, activation='relu', padding='same', strides=2)(conv1)\n",
    "flat = layers.Flatten()(conv2)\n",
    "out_layer = layers.Dense(10, activation='softmax')(flat)\n",
    " \n",
    "\n",
    "CNNModel = Model(myInput, out_layer)\n",
    "\n",
    "CNNModel.summary()"
   ]
  },
  {
   "cell_type": "markdown",
   "metadata": {},
   "source": [
    "#### Comments\n",
    "As we can see in the table above , using strides = 2 instead of Max pooling layers result in the same parameters, 20,490, by using less layer in the model. By doing this our model will be lighter, faster and less computing will be done. Now if we want we can even use more convolutional layer in our model."
   ]
  },
  {
   "cell_type": "markdown",
   "metadata": {},
   "source": [
    "## 3- Setting training parameters (Loss & optimization functions ,...)\n",
    "\n",
    "The only difference in this step with our FC model is that we change our optimizer to ```Adam()``` instead of using ```SGD()```. \n",
    "\n",
    "\n",
    "The code below illustrates the output."
   ]
  },
  {
   "cell_type": "code",
   "execution_count": 25,
   "metadata": {},
   "outputs": [],
   "source": [
    "CNNModel.compile(optimizer=keras.optimizers.Adam(), loss=keras.losses.categorical_crossentropy, metrics=['acc'])"
   ]
  },
  {
   "cell_type": "markdown",
   "metadata": {},
   "source": [
    "--------------"
   ]
  },
  {
   "cell_type": "markdown",
   "metadata": {},
   "source": [
    "## 4- Train the model (using fit())\n",
    "\n",
    "\n",
    "\n",
    "The code below illustrates the output."
   ]
  },
  {
   "cell_type": "code",
   "execution_count": 26,
   "metadata": {},
   "outputs": [
    {
     "name": "stdout",
     "output_type": "stream",
     "text": [
      "Train on 48000 samples, validate on 12000 samples\n",
      "Epoch 1/20\n",
      "48000/48000 [==============================] - 13s 271us/step - loss: 0.4893 - acc: 0.8653 - val_loss: 0.2131 - val_acc: 0.9400\n",
      "Epoch 2/20\n",
      "48000/48000 [==============================] - 12s 254us/step - loss: 0.1713 - acc: 0.9494 - val_loss: 0.1245 - val_acc: 0.9656\n",
      "Epoch 3/20\n",
      "48000/48000 [==============================] - 17s 348us/step - loss: 0.1062 - acc: 0.9685 - val_loss: 0.0952 - val_acc: 0.9734\n",
      "Epoch 4/20\n",
      "48000/48000 [==============================] - 12s 254us/step - loss: 0.0797 - acc: 0.9765 - val_loss: 0.0874 - val_acc: 0.9754\n",
      "Epoch 5/20\n",
      "48000/48000 [==============================] - 17s 348us/step - loss: 0.0671 - acc: 0.9792 - val_loss: 0.0788 - val_acc: 0.9769\n",
      "Epoch 6/20\n",
      "48000/48000 [==============================] - 15s 303us/step - loss: 0.0591 - acc: 0.9821 - val_loss: 0.0710 - val_acc: 0.9796\n",
      "Epoch 7/20\n",
      "48000/48000 [==============================] - 19s 390us/step - loss: 0.0522 - acc: 0.9838 - val_loss: 0.0812 - val_acc: 0.9760\n",
      "Epoch 8/20\n",
      "48000/48000 [==============================] - 13s 275us/step - loss: 0.0473 - acc: 0.9853 - val_loss: 0.0675 - val_acc: 0.9803\n",
      "Epoch 9/20\n",
      "48000/48000 [==============================] - 13s 281us/step - loss: 0.0419 - acc: 0.9870 - val_loss: 0.0694 - val_acc: 0.9804\n",
      "Epoch 10/20\n",
      "48000/48000 [==============================] - 13s 262us/step - loss: 0.0394 - acc: 0.9877 - val_loss: 0.0659 - val_acc: 0.9812\n",
      "Epoch 11/20\n",
      "48000/48000 [==============================] - 13s 273us/step - loss: 0.0354 - acc: 0.9892 - val_loss: 0.0700 - val_acc: 0.9788\n",
      "Epoch 12/20\n",
      "48000/48000 [==============================] - 13s 279us/step - loss: 0.0324 - acc: 0.9898 - val_loss: 0.0709 - val_acc: 0.9803\n",
      "Epoch 13/20\n",
      "48000/48000 [==============================] - 14s 291us/step - loss: 0.0287 - acc: 0.9911 - val_loss: 0.0694 - val_acc: 0.9811\n",
      "Epoch 14/20\n",
      "48000/48000 [==============================] - 15s 320us/step - loss: 0.0274 - acc: 0.9911 - val_loss: 0.0694 - val_acc: 0.9819\n",
      "Epoch 15/20\n",
      "48000/48000 [==============================] - 16s 344us/step - loss: 0.0249 - acc: 0.9921 - val_loss: 0.0712 - val_acc: 0.9817\n",
      "Epoch 16/20\n",
      "48000/48000 [==============================] - 14s 302us/step - loss: 0.0229 - acc: 0.9925 - val_loss: 0.0688 - val_acc: 0.9822\n",
      "Epoch 17/20\n",
      "48000/48000 [==============================] - 15s 305us/step - loss: 0.0211 - acc: 0.9933 - val_loss: 0.0728 - val_acc: 0.9811\n",
      "Epoch 18/20\n",
      "48000/48000 [==============================] - 13s 270us/step - loss: 0.0189 - acc: 0.9938 - val_loss: 0.0664 - val_acc: 0.9843\n",
      "Epoch 19/20\n",
      "48000/48000 [==============================] - 13s 266us/step - loss: 0.0177 - acc: 0.9943 - val_loss: 0.0828 - val_acc: 0.9799\n",
      "Epoch 20/20\n",
      "48000/48000 [==============================] - 14s 295us/step - loss: 0.0159 - acc: 0.9945 - val_loss: 0.0763 - val_acc: 0.9808\n",
      "Total training time:  0:04:45.057634\n"
     ]
    }
   ],
   "source": [
    "# Train our model\n",
    "import datetime\n",
    "start = datetime.datetime.now()\n",
    "\n",
    "network_historyCNN = CNNModel.fit(X_train2D, Y_train1D, batch_size=128, epochs=20, validation_split=0.2)\n",
    "\n",
    "end = datetime.datetime.now()\n",
    "elapsed = end - start\n",
    "print('Total training time: ', str(elapsed))"
   ]
  },
  {
   "cell_type": "markdown",
   "metadata": {},
   "source": [
    "#### Comments\n",
    "\n",
    "As we can see in the above table, by using convolutional layers instead of Fully Connected and also using *Adam()* function instead of *SGD()* are loss in much less than before. This is only because of the capability of Convolution layers and advantage of Adam() function.\n",
    "\n",
    "\n",
    "> Total training time:  0:04:45.057634 for 20 epochs with 128 batch size."
   ]
  },
  {
   "cell_type": "markdown",
   "metadata": {},
   "source": [
    "## 5- Visualization (Plot training behaviour)\n",
    "\n",
    "To visualize it we can use the ```plot_history()``` function that we have created earlier in our FC model.\n",
    "\n",
    "The code below illustrates the output."
   ]
  },
  {
   "cell_type": "code",
   "execution_count": 27,
   "metadata": {},
   "outputs": [
    {
     "data": {
      "image/png": "[encoded data removed]",
      "text/plain": [
       "<Figure size 432x288 with 1 Axes>"
      ]
     },
     "metadata": {
      "needs_background": "light"
     },
     "output_type": "display_data"
    },
    {
     "data": {
      "image/png": "[encoded data removed]",
      "text/plain": [
       "<Figure size 432x288 with 1 Axes>"
      ]
     },
     "metadata": {
      "needs_background": "light"
     },
     "output_type": "display_data"
    }
   ],
   "source": [
    "plot_history(network_historyCNN)"
   ]
  },
  {
   "cell_type": "markdown",
   "metadata": {},
   "source": [
    "## 6- Evaluation (Evaluate the model on the test set)\n",
    "\n",
    "This step is would be exactly the same as FC model.\n",
    "\n",
    "The code below illustrates the output."
   ]
  },
  {
   "cell_type": "code",
   "execution_count": 28,
   "metadata": {},
   "outputs": [
    {
     "name": "stdout",
     "output_type": "stream",
     "text": [
      "10000/10000 [==============================] - 1s 123us/step\n"
     ]
    }
   ],
   "source": [
    "# Evaluation\n",
    "test_loss, test_acc = CNNModel.evaluate(X_test2D, Y_test1D)\n",
    "test_labels_p = CNNModel.predict(X_test2D)"
   ]
  },
  {
   "cell_type": "code",
   "execution_count": 29,
   "metadata": {},
   "outputs": [
    {
     "name": "stdout",
     "output_type": "stream",
     "text": [
      "test_loss:  0.06320389996870363\n",
      "test_acc:  0.9828000068664551\n"
     ]
    }
   ],
   "source": [
    "print(\"test_loss: \", test_loss)\n",
    "print(\"test_acc: \", test_acc)"
   ]
  },
  {
   "cell_type": "markdown",
   "metadata": {},
   "source": [
    "#### CNN model accuracy and loss\n",
    "\n",
    "> Total training time: 0:04:45.057634 for 20 epochs with 128 batch size.<br>\n",
    "test_loss:  0.06320389996870363<br>\n",
    "test_acc:  0.9828000068664551<br>"
   ]
  },
  {
   "cell_type": "code",
   "execution_count": 30,
   "metadata": {},
   "outputs": [
    {
     "data": {
      "text/html": [
       "<div>\n",
       "<style scoped>\n",
       "    .dataframe tbody tr th:only-of-type {\n",
       "        vertical-align: middle;\n",
       "    }\n",
       "\n",
       "    .dataframe tbody tr th {\n",
       "        vertical-align: top;\n",
       "    }\n",
       "\n",
       "    .dataframe thead th {\n",
       "        text-align: right;\n",
       "    }\n",
       "</style>\n",
       "<table border=\"1\" class=\"dataframe\">\n",
       "  <thead>\n",
       "    <tr style=\"text-align: right;\">\n",
       "      <th></th>\n",
       "      <th>0</th>\n",
       "    </tr>\n",
       "  </thead>\n",
       "  <tbody>\n",
       "    <tr>\n",
       "      <th>0</th>\n",
       "      <td>7</td>\n",
       "    </tr>\n",
       "    <tr>\n",
       "      <th>1</th>\n",
       "      <td>2</td>\n",
       "    </tr>\n",
       "    <tr>\n",
       "      <th>2</th>\n",
       "      <td>1</td>\n",
       "    </tr>\n",
       "    <tr>\n",
       "      <th>3</th>\n",
       "      <td>0</td>\n",
       "    </tr>\n",
       "    <tr>\n",
       "      <th>4</th>\n",
       "      <td>4</td>\n",
       "    </tr>\n",
       "    <tr>\n",
       "      <th>...</th>\n",
       "      <td>...</td>\n",
       "    </tr>\n",
       "    <tr>\n",
       "      <th>9995</th>\n",
       "      <td>2</td>\n",
       "    </tr>\n",
       "    <tr>\n",
       "      <th>9996</th>\n",
       "      <td>3</td>\n",
       "    </tr>\n",
       "    <tr>\n",
       "      <th>9997</th>\n",
       "      <td>4</td>\n",
       "    </tr>\n",
       "    <tr>\n",
       "      <th>9998</th>\n",
       "      <td>5</td>\n",
       "    </tr>\n",
       "    <tr>\n",
       "      <th>9999</th>\n",
       "      <td>6</td>\n",
       "    </tr>\n",
       "  </tbody>\n",
       "</table>\n",
       "<p>10000 rows × 1 columns</p>\n",
       "</div>"
      ],
      "text/plain": [
       "      0\n",
       "0     7\n",
       "1     2\n",
       "2     1\n",
       "3     0\n",
       "4     4\n",
       "...  ..\n",
       "9995  2\n",
       "9996  3\n",
       "9997  4\n",
       "9998  5\n",
       "9999  6\n",
       "\n",
       "[10000 rows x 1 columns]"
      ]
     },
     "execution_count": 30,
     "metadata": {},
     "output_type": "execute_result"
    }
   ],
   "source": [
    "import numpy as np\n",
    "test_labels_p = np.argmax(test_labels_p, axis=1)\n",
    "pd.DataFrame(test_labels_p)"
   ]
  },
  {
   "cell_type": "markdown",
   "metadata": {},
   "source": [
    "Table above shows the predicted number for the test sets using CNN model.\n",
    "\n",
    "---------------------"
   ]
  },
  {
   "cell_type": "markdown",
   "metadata": {},
   "source": [
    "### Comparision between FC and CNN Neural Network models\n",
    "\n",
    "Table below is the comparision between two different type of Neural Network models, CNN model and FC model, which we trained using MNIST dataset used to recognise hand written digits in images.<br>\n",
    "as we can see FC model is faster to train but not as accurate as CNN model.\n",
    "\n",
    "#### FC model accuracy and loss\n",
    "\n",
    "> Total training time:  0:01:56.290826 for 20 epochs with 128 batch size<br>\n",
    "test_loss:  0.40140881116390226<br>\n",
    "test_acc:  0.8966000080108643<br>\n",
    "\n",
    "\n",
    "\n",
    "#### CNN model accuracy and loss\n",
    "\n",
    "> Total training time: 0:04:45.057634 for 20 epochs with 128 batch size.<br>\n",
    "test_loss:  0.06320389996870363<br>\n",
    "test_acc:  0.9828000068664551<br>\n"
   ]
  }
 ],
 "metadata": {
  "kernelspec": {
   "display_name": "Python 3",
   "language": "python",
   "name": "python3"
  },
  "language_info": {
   "codemirror_mode": {
    "name": "ipython",
    "version": 3
   },
   "file_extension": ".py",
   "mimetype": "text/x-python",
   "name": "python",
   "nbconvert_exporter": "python",
   "pygments_lexer": "ipython3",
   "version": "3.9.2"
  }
 },
 "nbformat": 4,
 "nbformat_minor": 4
}
